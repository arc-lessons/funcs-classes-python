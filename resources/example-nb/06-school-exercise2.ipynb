{
 "cells": [
  {
   "cell_type": "code",
   "execution_count": null,
   "metadata": {},
   "outputs": [],
   "source": [
    "class Exam:\n",
    "    def __init__(self, max_score=100):\n",
    "        self._max_score = max_score\n",
    "        self._actual_score = 0\n",
    "        \n",
    "    def percent(self):\n",
    "        return 100.0 * self._actual_score / self._max_score\n",
    "    \n",
    "    def setResult(self, score):\n",
    "        if (score < 0):\n",
    "            self._actual_score = 0\n",
    "        elif (score > self._max_score):\n",
    "            self._actual_score = self._max_score\n",
    "        else:\n",
    "            self._actual_score = score\n",
    "    \n",
    "    def grade(self):\n",
    "        if (self._actual_score == 0):\n",
    "            return \"U\"\n",
    "        elif (self.percent() > 90.0):\n",
    "            return \"A\"\n",
    "        elif (self.percent() > 80.0):\n",
    "            return \"B\"\n",
    "        elif (self.percent() > 70.0):\n",
    "            return \"C\"\n",
    "        else:\n",
    "            return \"F\""
   ]
  },
  {
   "cell_type": "code",
   "execution_count": null,
   "metadata": {},
   "outputs": [],
   "source": [
    "class Student:\n",
    "    def __init__(self):\n",
    "        self._exams = {}\n",
    "    \n",
    "    def addExam(self, name, exam):\n",
    "        self._exams[name] = exam\n",
    "        \n",
    "    def addResult(self, name, score):\n",
    "        self._exams[name].setResult(score)\n",
    "    \n",
    "    def result(self, exam):\n",
    "        return self._exams[exam].percent()\n",
    "    \n",
    "    def grade(self, exam):\n",
    "        return self._exams[exam].grade()\n",
    "    \n",
    "    def grades(self):\n",
    "        g = {}\n",
    "        for exam in self._exams.keys():\n",
    "            g[exam] = self.grade(exam)\n",
    "        return g"
   ]
  },
  {
   "cell_type": "code",
   "execution_count": null,
   "metadata": {},
   "outputs": [],
   "source": [
    "class School:\n",
    "    def __init__(self):\n",
    "        self._students = {}\n",
    "        self._exams = []\n",
    "\n",
    "    def addStudent(self, name):\n",
    "        self._students[name] = Student()\n",
    "\n",
    "    def addExam(self, exam, max_score):\n",
    "        self._exams.append(exam)\n",
    "        \n",
    "        for key in self._students.keys():\n",
    "            self._students[key].addExam(exam, Exam(max_score))\n",
    "    \n",
    "    def addResult(self, name, exam, score):\n",
    "        self._students[name].addResult(exam, score)\n",
    "        \n",
    "    def grades(self):\n",
    "        g = {}\n",
    "        for name in self._students.keys():\n",
    "            g[name] = self._students[name].grades()\n",
    "        return g"
   ]
  }
 ],
 "metadata": {
  "kernelspec": {
   "display_name": "Python 3.6",
   "language": "python",
   "name": "python36"
  },
  "language_info": {
   "codemirror_mode": {
    "name": "ipython",
    "version": 3
   },
   "file_extension": ".py",
   "mimetype": "text/x-python",
   "name": "python",
   "nbconvert_exporter": "python",
   "pygments_lexer": "ipython3",
   "version": "3.6.6"
  }
 },
 "nbformat": 4,
 "nbformat_minor": 1
}
