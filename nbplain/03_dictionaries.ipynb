{
  "cells": [
    {
      "metadata": {},
      "cell_type": "markdown",
      "source": "# Dictionaries"
    },
    {
      "metadata": {},
      "cell_type": "markdown",
      "source": "## Overview:\n- **Teaching:** 10 min\n- **Exercises:** 10 min\n\n**Questions**\n- What is a dictionary?\n- Why wouldn't I just use a list?\n- How do I access the items in a dictionary?\n- How do I modify or add items to a dictionary?\n\n**Objectives**\n- Learn how to define, access, modify and add to dictionaries\n- Understand the difference between a dictionary"
    },
    {
      "metadata": {},
      "cell_type": "markdown",
      "source": "Dictionaries are another type of Python container. Instead of storing values by index, they store them associated with a key.\n\nYou create dictionaries using curly brackets, assiging values to their keys using a colon, e.g.\n\n```python\na = { \"cat\" : \"mieow\", \"dog\" : \"woof\", \"horse\" : \"neigh\" }\n```"
    },
    {
      "metadata": {
        "trusted": false
      },
      "cell_type": "code",
      "source": "a = { \"cat\" : \"mieow\", \"dog\" : \"woof\", \"horse\" : \"neigh\"}",
      "execution_count": 1,
      "outputs": []
    },
    {
      "metadata": {
        "trusted": false
      },
      "cell_type": "code",
      "source": "a",
      "execution_count": 2,
      "outputs": [
        {
          "data": {
            "text/plain": "{'cat': 'mieow', 'dog': 'woof', 'horse': 'neigh'}"
          },
          "execution_count": 2,
          "metadata": {},
          "output_type": "execute_result"
        }
      ]
    },
    {
      "metadata": {},
      "cell_type": "markdown",
      "source": "You can look up values in the dictionary by placing the key in square brackets. For example, we can look up the value associated with the key \"cat\" using `a[\"cat\"]`."
    },
    {
      "metadata": {
        "trusted": false
      },
      "cell_type": "code",
      "source": "a[\"cat\"]",
      "execution_count": 3,
      "outputs": [
        {
          "data": {
            "text/plain": "'mieow'"
          },
          "execution_count": 3,
          "metadata": {},
          "output_type": "execute_result"
        }
      ]
    },
    {
      "metadata": {},
      "cell_type": "markdown",
      "source": "What happens if the key does not exist?"
    },
    {
      "metadata": {
        "trusted": false
      },
      "cell_type": "code",
      "source": "a['fish']",
      "execution_count": 4,
      "outputs": [
        {
          "ename": "KeyError",
          "evalue": "'fish'",
          "output_type": "error",
          "traceback": [
            "\u001b[0;31m---------------------------------------------------------------------------\u001b[0m",
            "\u001b[0;31mKeyError\u001b[0m                                  Traceback (most recent call last)",
            "\u001b[0;32m<ipython-input-4-afabe6ae7883>\u001b[0m in \u001b[0;36m<module>\u001b[0;34m\u001b[0m\n\u001b[0;32m----> 1\u001b[0;31m \u001b[0ma\u001b[0m\u001b[0;34m[\u001b[0m\u001b[0;34m'fish'\u001b[0m\u001b[0;34m]\u001b[0m\u001b[0;34m\u001b[0m\u001b[0;34m\u001b[0m\u001b[0m\n\u001b[0m",
            "\u001b[0;31mKeyError\u001b[0m: 'fish'"
          ]
        }
      ]
    },
    {
      "metadata": {},
      "cell_type": "markdown",
      "source": "You insert items into the dictionary by assigning values to keys, e.g."
    },
    {
      "metadata": {
        "trusted": false
      },
      "cell_type": "code",
      "source": "a[\"fish\"] = \"bubble\"",
      "execution_count": 5,
      "outputs": []
    },
    {
      "metadata": {
        "trusted": false
      },
      "cell_type": "code",
      "source": "a",
      "execution_count": 6,
      "outputs": [
        {
          "data": {
            "text/plain": "{'cat': 'mieow', 'dog': 'woof', 'horse': 'neigh', 'fish': 'bubble'}"
          },
          "execution_count": 6,
          "metadata": {},
          "output_type": "execute_result"
        }
      ]
    },
    {
      "metadata": {},
      "cell_type": "markdown",
      "source": "You can list all of the keys or values of a dictionary using the `keys` or `values` functions (which you can find using tab completion and Python help)"
    },
    {
      "metadata": {
        "trusted": false
      },
      "cell_type": "code",
      "source": "help(a.values)",
      "execution_count": 7,
      "outputs": [
        {
          "name": "stdout",
          "output_type": "stream",
          "text": "Help on built-in function values:\n\nvalues(...) method of builtins.dict instance\n    D.values() -> an object providing a view on D's values\n\n"
        }
      ]
    },
    {
      "metadata": {
        "trusted": false
      },
      "cell_type": "code",
      "source": "a.keys()",
      "execution_count": 8,
      "outputs": [
        {
          "data": {
            "text/plain": "dict_keys(['cat', 'dog', 'horse', 'fish'])"
          },
          "execution_count": 8,
          "metadata": {},
          "output_type": "execute_result"
        }
      ]
    },
    {
      "metadata": {
        "trusted": false
      },
      "cell_type": "code",
      "source": "a.values()",
      "execution_count": 9,
      "outputs": [
        {
          "data": {
            "text/plain": "dict_values(['mieow', 'woof', 'neigh', 'bubble'])"
          },
          "execution_count": 9,
          "metadata": {},
          "output_type": "execute_result"
        }
      ]
    },
    {
      "metadata": {},
      "cell_type": "markdown",
      "source": "You can loop over the dictionary by looping over the keys and looking up the values in a for loop, e.g."
    },
    {
      "metadata": {
        "trusted": false
      },
      "cell_type": "code",
      "source": "for key in a.keys():\n    print(\"A %s goes %s\" % (key, a[key]))",
      "execution_count": 10,
      "outputs": [
        {
          "name": "stdout",
          "output_type": "stream",
          "text": "A cat goes mieow\nA dog goes woof\nA horse goes neigh\nA fish goes bubble\n"
        }
      ]
    },
    {
      "metadata": {},
      "cell_type": "markdown",
      "source": "You can put anything as a value into a dictionary, including other dictionaries and even lists. The keys should be either numbers or strings."
    },
    {
      "metadata": {
        "trusted": false
      },
      "cell_type": "code",
      "source": "b = { \"a\" : [\"aardvark\", \"anteater\", \"antelope\"], \"b\" : [\"badger\", \"beetle\"], 26.5: a}",
      "execution_count": 11,
      "outputs": []
    },
    {
      "metadata": {},
      "cell_type": "markdown",
      "source": "What do you think is at `b[\"a\"][-1]`? What about `b[26.5][\"fish\"]`?"
    },
    {
      "metadata": {
        "trusted": false
      },
      "cell_type": "code",
      "source": "b[26.5][\"fish\"]",
      "execution_count": 12,
      "outputs": [
        {
          "data": {
            "text/plain": "'bubble'"
          },
          "execution_count": 12,
          "metadata": {},
          "output_type": "execute_result"
        }
      ]
    },
    {
      "metadata": {},
      "cell_type": "markdown",
      "source": "## Exercises\n\nBelow you have a dictionary that contains the full mapping of every letter to its Morse-code equivalent."
    },
    {
      "metadata": {
        "trusted": false
      },
      "cell_type": "code",
      "source": "letter_to_morse = {'a':'.-', 'b':'-...', 'c':'-.-.', 'd':'-..', 'e':'.', 'f':'..-.',\n                   'g':'--.', 'h':'....', 'i':'..', 'j':'.---', 'k':'-.-', 'l':'.-..', 'm':'--',\n                   'n':'-.', 'o':'---', 'p':'.--.', 'q':'--.-', 'r':'.-.', 's':'...', 't':'-',\n                   'u':'..-', 'v':'...-', 'w':'.--', 'x':'-..-', 'y':'-.--', 'z':'--..',\n                   '0':'-----', '1':'.----', '2':'..---', '3':'...--', '4':'....-',\n                   '5':'.....', '6':'-....', '7':'--...', '8':'---..', '9':'----.',\n                   ' ':'/' }",
      "execution_count": 13,
      "outputs": []
    },
    {
      "metadata": {},
      "cell_type": "markdown",
      "source": "## Exercise: 1\n\nUse the Morse code dictionary to look up the Morse code for the letters \"s\" and \"o\". What is the Morse code for \"SOS\" (the international emergency distress signal)?\n\n[Solution]()"
    },
    {
      "metadata": {},
      "cell_type": "markdown",
      "source": "## Solution+: 1"
    },
    {
      "metadata": {
        "trusted": false
      },
      "cell_type": "code",
      "source": "print(letter_to_morse[\"s\"], letter_to_morse[\"o\"], letter_to_morse[\"s\"])",
      "execution_count": 14,
      "outputs": [
        {
          "name": "stdout",
          "output_type": "stream",
          "text": "... --- ...\n"
        }
      ]
    },
    {
      "metadata": {},
      "cell_type": "markdown",
      "source": ":Solution+"
    },
    {
      "metadata": {},
      "cell_type": "markdown",
      "source": "## Exercise: 2\n\nHere is a string that contains a message that must be converted to morse code. Write a loop that converts each letter into the morse code equivalent, and stores it into a list. Print the list out to see the full morse code message that must be sent. Note that you will need to use the `.lower()` function to get the lower case of capital letters.\n\n```python\nmessage = \"SOS We have hit an iceberg and need help quickly\"\n```\n\n[Solution]()"
    },
    {
      "metadata": {},
      "cell_type": "markdown",
      "source": "## Solution+: 2"
    },
    {
      "metadata": {
        "trusted": false
      },
      "cell_type": "code",
      "source": "message = \"SOS We have hit an iceberg and need help quickly\"",
      "execution_count": 15,
      "outputs": []
    },
    {
      "metadata": {
        "trusted": false
      },
      "cell_type": "code",
      "source": "morse = []\nfor letter in message:\n    morse.append( letter_to_morse[letter.lower()] )\nprint(morse)",
      "execution_count": 16,
      "outputs": [
        {
          "name": "stdout",
          "output_type": "stream",
          "text": "['...', '---', '...', '/', '.--', '.', '/', '....', '.-', '...-', '.', '/', '....', '..', '-', '/', '.-', '-.', '/', '..', '-.-.', '.', '-...', '.', '.-.', '--.', '/', '.-', '-.', '-..', '/', '-.', '.', '.', '-..', '/', '....', '.', '.-..', '.--.', '/', '--.-', '..-', '..', '-.-.', '-.-', '.-..', '-.--']\n"
        }
      ]
    },
    {
      "metadata": {},
      "cell_type": "markdown",
      "source": ":Solution+"
    },
    {
      "metadata": {},
      "cell_type": "markdown",
      "source": "## Exercise+: 3\n\nThe inverted form of a dictionary is one where the keys are now looked up by value. For example, the below code inverts `letter_to_morse` such that the morse code is the key, and the letter is the value."
    },
    {
      "metadata": {
        "trusted": false
      },
      "cell_type": "code",
      "source": "morse_to_letter = {}\nfor letter in letter_to_morse.keys():\n    morse_to_letter[ letter_to_morse[letter] ] = letter",
      "execution_count": 17,
      "outputs": []
    },
    {
      "metadata": {},
      "cell_type": "markdown",
      "source": "Check that this code works by verifying that `morse_to_letter[\"...\"]` equals \"s\".\n\nNext, loop through the morse code message you created in exercise 2 and see if you can convert it back to english. Note that you can join a list of letters together into a string using the code `\"\".join(letters)`.\n\n[Solution]()"
    },
    {
      "metadata": {},
      "cell_type": "markdown",
      "source": ":Exercise+"
    },
    {
      "metadata": {},
      "cell_type": "markdown",
      "source": "## Solution+: 3"
    },
    {
      "metadata": {
        "trusted": false
      },
      "cell_type": "code",
      "source": "english = []\nfor code in morse:\n    english.append( morse_to_letter[code] )\nprint(\"\".join(english))",
      "execution_count": 18,
      "outputs": [
        {
          "name": "stdout",
          "output_type": "stream",
          "text": "sos we have hit an iceberg and need help quickly\n"
        }
      ]
    },
    {
      "metadata": {},
      "cell_type": "markdown",
      "source": ":Solution+"
    },
    {
      "metadata": {
        "collapsed": true
      },
      "cell_type": "markdown",
      "source": "## Key Points:\n\n- Python dicts are like Python lists, they can store anything!\n- Python dicts are different to Python lists in the way they are indexed. Lists are indexed with whole numbers, whereas dicts are indexed with some key, which can be anything. In many cases the key is a string.\n- An empty dict is created with my_dict = dict() or my_dict = {}.\n- We can explicitly construct a dict with my_dict = {'a' : 1, 'b' : 't', 'c' : False}.\n- We can access a value in a dict by using it's key my_dict['b'].\n- We can also easily add or change values in a dictionary: `my_dict['title'] = 'My personal dictionary'"
    }
  ],
  "metadata": {
    "kernelspec": {
      "name": "python3",
      "display_name": "Python 3",
      "language": "python"
    },
    "language_info": {
      "mimetype": "text/x-python",
      "nbconvert_exporter": "python",
      "name": "python",
      "file_extension": ".py",
      "version": "3.5.4",
      "pygments_lexer": "ipython3",
      "codemirror_mode": {
        "version": 3,
        "name": "ipython"
      }
    }
  },
  "nbformat": 4,
  "nbformat_minor": 2
}