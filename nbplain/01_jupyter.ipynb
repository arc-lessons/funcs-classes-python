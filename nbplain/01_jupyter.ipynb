{
 "cells": [
  {
   "cell_type": "markdown",
   "metadata": {},
   "source": [
    "# Jupyter Python Notebooks"
   ]
  },
  {
   "cell_type": "markdown",
   "metadata": {},
   "source": [
    "## Overview:\n",
    "- **Teaching:** 10 min\n",
    "- **Exercises:** 10 min\n",
    "\n",
    "**Questions**\n",
    "- What are Jupyter Notebooks?\n",
    "- Why might I want to use them?\n",
    "\n",
    "**Objectives**\n",
    "- Know how to enter Python within a notebook\n",
    "- Understand the difference between code and markdown cells\n",
    "- Know that you can add documentation/description to your code with markdown"
   ]
  },
  {
   "cell_type": "markdown",
   "metadata": {},
   "source": [
    "## Execute code in a notebook\n",
    "Jupyter provides a nice web-based interface to Python. In a new notebook you can type a line of Python. For example, here we type in\n",
    "\n",
    "```python\n",
    "a = 5\n",
    "```\n",
    "\n",
    "When we press `SHIFT+Return` this Python line is interpreted interactively"
   ]
  },
  {
   "cell_type": "code",
   "execution_count": 6,
   "metadata": {},
   "outputs": [],
   "source": [
    "a = 5"
   ]
  },
  {
   "cell_type": "markdown",
   "metadata": {},
   "source": [
    "To see that this has worked, let's print the value of `a`"
   ]
  },
  {
   "cell_type": "code",
   "execution_count": 7,
   "metadata": {},
   "outputs": [
    {
     "name": "stdout",
     "output_type": "stream",
     "text": [
      "5\n"
     ]
    }
   ],
   "source": [
    "print(a)"
   ]
  },
  {
   "cell_type": "markdown",
   "metadata": {},
   "source": [
    "You can type whatever Python you want, and it will be evaluated interactively. For example..."
   ]
  },
  {
   "cell_type": "code",
   "execution_count": 8,
   "metadata": {},
   "outputs": [],
   "source": [
    "b = 10"
   ]
  },
  {
   "cell_type": "code",
   "execution_count": 9,
   "metadata": {},
   "outputs": [
    {
     "name": "stdout",
     "output_type": "stream",
     "text": [
      "15\n"
     ]
    }
   ],
   "source": [
    "print(a + b)"
   ]
  },
  {
   "cell_type": "markdown",
   "metadata": {},
   "source": [
    "## Info: Out of order execution\n",
    "\n",
    "The ability to go back and change only small snippets of code is very useful, but also very dangerous form a coding point of view. If you edit a code cell and don't run all the code cells after it, then any cell that isn't re-executed is still using the old code. Jupyter allows you to keep track of this by numbering its input, In [3] for instance means this block was executed third.\n",
    "\n",
    "If you get in a complete mess you can also clear all output, without removing the input and re-execute the code blocks in order."
   ]
  },
  {
   "cell_type": "markdown",
   "metadata": {},
   "source": [
    "All of the standard Python help is available from within the notebook. This means that you can type\n",
    "\n",
    "```python\n",
    "help(something)\n",
    "```\n",
    "\n",
    "to get help about `something`. For example, type and execute `help(print)` to get help about the print function..."
   ]
  },
  {
   "cell_type": "code",
   "execution_count": 10,
   "metadata": {},
   "outputs": [
    {
     "name": "stdout",
     "output_type": "stream",
     "text": [
      "Help on built-in function print in module builtins:\n",
      "\n",
      "print(...)\n",
      "    print(value, ..., sep=' ', end='\\n', file=sys.stdout, flush=False)\n",
      "    \n",
      "    Prints the values to a stream, or to sys.stdout by default.\n",
      "    Optional keyword arguments:\n",
      "    file:  a file-like object (stream); defaults to the current sys.stdout.\n",
      "    sep:   string inserted between values, default a space.\n",
      "    end:   string appended after the last value, default a newline.\n",
      "    flush: whether to forcibly flush the stream.\n",
      "\n"
     ]
    }
   ],
   "source": [
    "help(print)"
   ]
  },
  {
   "cell_type": "markdown",
   "metadata": {},
   "source": [
    "## Exercise: Hello Notebook!\n",
    "\n",
    "Use the cells in your notebook to type into the three Python lines\n",
    "\n",
    "```python\n",
    "a = \"Hello\"\n",
    "b = \"Notebook!\"\n",
    "print(a,b)\n",
    "```\n",
    "\n",
    "Execute the cells. This should print out `Hello Notebook!`.\n",
    "\n",
    "Now go back and change the values of `a` and `b` to `Goodbye` and `Everyone`. Re-execute your cells. This should now print out `Goodbye Everyone`."
   ]
  },
  {
   "cell_type": "markdown",
   "metadata": {},
   "source": [
    "## Solution: Hello Notebook!\n",
    "Type the lines of the exercise into the empty cells. Ensure that any cells you use are code cells and not markdown cells."
   ]
  },
  {
   "cell_type": "markdown",
   "metadata": {},
   "source": [
    "## Save your work\n",
    "\n",
    "You can set the name of the notebook by clicking on the name at the top, and entering the new name e.g `episode1` (The file extension is `ipynb` which means 'interactive python notebook'). You can save the notebook on your local machine using the `File` menu at the top, using `Download as` e.g. saving as a normal Python script, or as a PDF file, webpage or downloading the python notebook itself.\n",
    "\n",
    "You can run this notebook on your own computer by installing Jupyter. More information is available at the [Jupyter website](http://jupyter.org)."
   ]
  },
  {
   "cell_type": "markdown",
   "metadata": {},
   "source": [
    "## Using Markdown to document your code\n",
    "Another cool thing is that you can mix documentation into your notebook. Do this by selecting a cell and using the dropdown menu to change the cell type to `Markdown`. \n",
    "\n",
    "You can now add documentation, using [markdown](https://github.com/adam-p/markdown-here/wiki/Markdown-Cheatsheet) formatting. For example, use the hash symbol for headers...\n",
    "\n",
    "NB In what follows you do not need to include the line `%% markdown`, this some **magic** we use to generate the teaching material.  More on **magic** later ..."
   ]
  },
  {
   "cell_type": "code",
   "execution_count": 11,
   "metadata": {},
   "outputs": [
    {
     "data": {
      "text/markdown": [
       "# This is a big header\n",
       "\n",
       "## This is a subheading\n",
       "\n",
       "### This is a sub-sub-heading\n"
      ],
      "text/plain": [
       "<IPython.core.display.Markdown object>"
      ]
     },
     "metadata": {},
     "output_type": "display_data"
    }
   ],
   "source": [
    "%%markdown\n",
    "# This is a big header\n",
    "\n",
    "## This is a subheading\n",
    "\n",
    "### This is a sub-sub-heading"
   ]
  },
  {
   "cell_type": "code",
   "execution_count": 12,
   "metadata": {},
   "outputs": [
    {
     "data": {
      "text/markdown": [
       "[link to github](https://github.com)\n"
      ],
      "text/plain": [
       "<IPython.core.display.Markdown object>"
      ]
     },
     "metadata": {},
     "output_type": "display_data"
    }
   ],
   "source": [
    "%%markdown\n",
    "[link to github](https://github.com)"
   ]
  },
  {
   "cell_type": "markdown",
   "metadata": {},
   "source": [
    "## Exercise: Markdown\n",
    "\n",
    "Insert a new cell and change it to `Markdown`. Type in some markdown in this cell and experiment with adding in headings and hyperlinks. Take a look through the [markdown cheat sheet](https://github.com/adam-p/markdown-here/wiki/Markdown-Cheatsheet) and see if you can add bullet point lists, images, or code blocks to your cell.\n",
    "\n",
    "See if you can recreate the following:\n",
    "\n",
    "### A super subheading\n",
    "\n",
    "* list item 1\n",
    "* list item 2\n",
    "\n",
    "1. numbered list item\n",
    "1. another numbered list item\n",
    "1. another item\n",
    "\n",
    "![Image from the web](https://upload.wikimedia.org/wikipedia/commons/5/52/Angolian-Python.jpg)\n",
    "\n",
    "```python\n",
    "# block of code with python syntax highlighting\n",
    "for k in range(10):\n",
    "    print(k, 'Hello World!')\n",
    "```"
   ]
  },
  {
   "cell_type": "markdown",
   "metadata": {},
   "source": [
    "## Solution: Markdown\n",
    "\n",
    "```markdown\n",
    "### A super subheading\n",
    "\n",
    "* list item 1\n",
    "* list item 2\n",
    "\n",
    "1. numbered list item\n",
    "1. another numbered list item\n",
    "1. another item\n",
    "\n",
    "![Image from the web](https://upload.wikimedia.org/wikipedia/commons/5/52/Angolian-Python.jpg)\n",
    "\n",
    "```python\n",
    "# block of code with python syntax highlighting\n",
    "for k in range(10):\n",
    "    print(k, 'Hello World!')\n",
    "```"
   ]
  },
  {
   "cell_type": "markdown",
   "metadata": {},
   "source": [
    "## Exercise: Help!\n",
    "\n",
    "Finally, use the interactive Python help to get help about the `open` function for reading and writing files."
   ]
  },
  {
   "cell_type": "markdown",
   "metadata": {},
   "source": [
    "## Solution: Help!\n",
    "help(open)"
   ]
  },
  {
   "cell_type": "markdown",
   "metadata": {
    "collapsed": true
   },
   "source": [
    "## Key Points:\n",
    "- Jupyter notebooks allow you to write any Python code (and other languages) into a web interface.\n",
    "- Cell contents can be easily modified.\n",
    "- You need to be wary of out of order execution.\n",
    "- Markdown is useful for explaining what the code does and presenting your work."
   ]
  }
 ],
 "metadata": {
  "kernelspec": {
   "display_name": "Python 3",
   "language": "python",
   "name": "python3"
  },
  "language_info": {
   "codemirror_mode": {
    "name": "ipython",
    "version": 3
   },
   "file_extension": ".py",
   "mimetype": "text/x-python",
   "name": "python",
   "nbconvert_exporter": "python",
   "pygments_lexer": "ipython3",
   "version": "3.7.3"
  }
 },
 "nbformat": 4,
 "nbformat_minor": 2
}
