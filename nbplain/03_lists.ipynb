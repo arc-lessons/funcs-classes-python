--2019-05-24 13:13:33--  https://chryswoods.com/python_and_data/python1/answers_03_dictionaries.ipynb
Resolving wwwproxy.bath.ac.uk (wwwproxy.bath.ac.uk)... 138.38.44.134, 138.38.44.163
Connecting to wwwproxy.bath.ac.uk (wwwproxy.bath.ac.uk)|138.38.44.134|:3128... connected.
Proxy request sent, awaiting response... 403 Forbidden
2019-05-24 13:13:33 ERROR 403: Forbidden.

